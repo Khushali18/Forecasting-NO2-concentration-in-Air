{
 "cells": [
  {
   "cell_type": "markdown",
   "id": "b2405f50-a9a5-4713-8c7e-f6f40445a30b",
   "metadata": {},
   "source": [
    "# Predicting NO2 Concentration in Air\n",
    "### Dataset\n",
    "Air Quality Dataset from UC Irvine Machine Learning Repository\n",
    "\n",
    "Link: https://archive.ics.uci.edu/dataset/360/air+quality\n",
    "\n",
    "This time-series dataset comprises hourly records from five metal oxide chemical sensors monitoring air quality in an Italian city over one year (March 2004 to February 2005). It captures hourly average concentrations of CO, hydrocarbons, benzene, NOx, and NO2(Nitrogen Dioxide). Given Nitrogen Dioxide's impact on human health, our primary focus is on tracking its concentration. In this notebook, we will develop a VAR model to predict NO2 levels in sensors."
   ]
  },
  {
   "cell_type": "markdown",
   "id": "0e1a8c2a-2871-403c-8d78-a994460168b1",
   "metadata": {},
   "source": [
    "### 1. Import Libraries"
   ]
  },
  {
   "cell_type": "code",
   "execution_count": 1,
   "id": "776f1b22-5207-4d1e-8f56-0c058bae30c7",
   "metadata": {},
   "outputs": [],
   "source": [
    "import os\n",
    "import warnings\n",
    "warnings.filterwarnings(\"ignore\")\n",
    "\n",
    "import pandas as pd\n",
    "import numpy as np\n",
    "import matplotlib.pyplot as plt\n",
    "import seaborn as sns\n",
    "from Utilities import train_and_save_model, load_and_test_model"
   ]
  },
  {
   "cell_type": "markdown",
   "id": "6cc1b662-b4a4-4dbe-98d1-cdc0ffe11ec6",
   "metadata": {},
   "source": [
    "### 2. Load Data"
   ]
  },
  {
   "cell_type": "code",
   "execution_count": 2,
   "id": "6bb6c51b-0549-4b77-916f-290e36048214",
   "metadata": {},
   "outputs": [],
   "source": [
    "df = pd.read_excel('../../Data/Updated_AirQualityUCI.xlsx')"
   ]
  },
  {
   "cell_type": "code",
   "execution_count": 3,
   "id": "6ace6912-3a80-4f6e-b34a-a2dc35282347",
   "metadata": {},
   "outputs": [
    {
     "data": {
      "text/plain": [
       "(9357, 20)"
      ]
     },
     "execution_count": 3,
     "metadata": {},
     "output_type": "execute_result"
    }
   ],
   "source": [
    "df.shape"
   ]
  },
  {
   "cell_type": "code",
   "execution_count": 4,
   "id": "f1d95ab8-990b-427f-b59b-383f33bb865f",
   "metadata": {},
   "outputs": [
    {
     "data": {
      "text/html": [
       "<div>\n",
       "<style scoped>\n",
       "    .dataframe tbody tr th:only-of-type {\n",
       "        vertical-align: middle;\n",
       "    }\n",
       "\n",
       "    .dataframe tbody tr th {\n",
       "        vertical-align: top;\n",
       "    }\n",
       "\n",
       "    .dataframe thead th {\n",
       "        text-align: right;\n",
       "    }\n",
       "</style>\n",
       "<table border=\"1\" class=\"dataframe\">\n",
       "  <thead>\n",
       "    <tr style=\"text-align: right;\">\n",
       "      <th></th>\n",
       "      <th>DateTime</th>\n",
       "      <th>CO(GT)</th>\n",
       "      <th>PT08.S1(CO)</th>\n",
       "      <th>NMHC(GT)</th>\n",
       "      <th>C6H6(GT)</th>\n",
       "      <th>log_C6H6(GT)</th>\n",
       "      <th>sqrt_C6H6(GT)</th>\n",
       "      <th>PT08.S2(NMHC)</th>\n",
       "      <th>log_PT08.S2(NMHC)</th>\n",
       "      <th>sqrt_PT08.S2(NMHC)</th>\n",
       "      <th>NOx(GT)</th>\n",
       "      <th>PT08.S3(NOx)</th>\n",
       "      <th>NO2(GT)</th>\n",
       "      <th>PT08.S4(NO2)</th>\n",
       "      <th>log_PT08.S4(NO2)</th>\n",
       "      <th>sqrt_PT08.S4(NO2)</th>\n",
       "      <th>PT08.S5(O3)</th>\n",
       "      <th>T</th>\n",
       "      <th>RH</th>\n",
       "      <th>AH</th>\n",
       "    </tr>\n",
       "  </thead>\n",
       "  <tbody>\n",
       "    <tr>\n",
       "      <th>0</th>\n",
       "      <td>2004-03-10 18:00:00</td>\n",
       "      <td>0.211864</td>\n",
       "      <td>0.511849</td>\n",
       "      <td>0.120981</td>\n",
       "      <td>0.184498</td>\n",
       "      <td>0.169319</td>\n",
       "      <td>0.429532</td>\n",
       "      <td>0.361737</td>\n",
       "      <td>0.308761</td>\n",
       "      <td>0.601446</td>\n",
       "      <td>0.111036</td>\n",
       "      <td>0.311024</td>\n",
       "      <td>0.328694</td>\n",
       "      <td>0.513040</td>\n",
       "      <td>0.414121</td>\n",
       "      <td>0.716268</td>\n",
       "      <td>0.454654</td>\n",
       "      <td>0.333333</td>\n",
       "      <td>0.499057</td>\n",
       "      <td>0.280046</td>\n",
       "    </tr>\n",
       "    <tr>\n",
       "      <th>1</th>\n",
       "      <td>2004-03-10 19:00:00</td>\n",
       "      <td>0.161017</td>\n",
       "      <td>0.463196</td>\n",
       "      <td>0.120981</td>\n",
       "      <td>0.145428</td>\n",
       "      <td>0.135778</td>\n",
       "      <td>0.381350</td>\n",
       "      <td>0.312167</td>\n",
       "      <td>0.271680</td>\n",
       "      <td>0.558719</td>\n",
       "      <td>0.068382</td>\n",
       "      <td>0.360796</td>\n",
       "      <td>0.266509</td>\n",
       "      <td>0.453125</td>\n",
       "      <td>0.373716</td>\n",
       "      <td>0.673146</td>\n",
       "      <td>0.326382</td>\n",
       "      <td>0.326882</td>\n",
       "      <td>0.484287</td>\n",
       "      <td>0.264279</td>\n",
       "    </tr>\n",
       "    <tr>\n",
       "      <th>2</th>\n",
       "      <td>2004-03-10 20:00:00</td>\n",
       "      <td>0.177966</td>\n",
       "      <td>0.542011</td>\n",
       "      <td>0.120981</td>\n",
       "      <td>0.139148</td>\n",
       "      <td>0.130281</td>\n",
       "      <td>0.373026</td>\n",
       "      <td>0.303701</td>\n",
       "      <td>0.265207</td>\n",
       "      <td>0.551090</td>\n",
       "      <td>0.087339</td>\n",
       "      <td>0.346500</td>\n",
       "      <td>0.331655</td>\n",
       "      <td>0.451214</td>\n",
       "      <td>0.372400</td>\n",
       "      <td>0.671725</td>\n",
       "      <td>0.370588</td>\n",
       "      <td>0.296774</td>\n",
       "      <td>0.563168</td>\n",
       "      <td>0.276374</td>\n",
       "    </tr>\n",
       "    <tr>\n",
       "      <th>3</th>\n",
       "      <td>2004-03-10 21:00:00</td>\n",
       "      <td>0.177966</td>\n",
       "      <td>0.522980</td>\n",
       "      <td>0.120981</td>\n",
       "      <td>0.142780</td>\n",
       "      <td>0.133464</td>\n",
       "      <td>0.377863</td>\n",
       "      <td>0.308617</td>\n",
       "      <td>0.268971</td>\n",
       "      <td>0.555533</td>\n",
       "      <td>0.115098</td>\n",
       "      <td>0.326168</td>\n",
       "      <td>0.355345</td>\n",
       "      <td>0.464366</td>\n",
       "      <td>0.381422</td>\n",
       "      <td>0.681444</td>\n",
       "      <td>0.426741</td>\n",
       "      <td>0.277419</td>\n",
       "      <td>0.638906</td>\n",
       "      <td>0.294198</td>\n",
       "    </tr>\n",
       "    <tr>\n",
       "      <th>4</th>\n",
       "      <td>2004-03-10 22:00:00</td>\n",
       "      <td>0.127119</td>\n",
       "      <td>0.448833</td>\n",
       "      <td>0.120981</td>\n",
       "      <td>0.100156</td>\n",
       "      <td>0.095452</td>\n",
       "      <td>0.316475</td>\n",
       "      <td>0.247030</td>\n",
       "      <td>0.220765</td>\n",
       "      <td>0.497021</td>\n",
       "      <td>0.087339</td>\n",
       "      <td>0.374034</td>\n",
       "      <td>0.337578</td>\n",
       "      <td>0.422212</td>\n",
       "      <td>0.352214</td>\n",
       "      <td>0.649779</td>\n",
       "      <td>0.386228</td>\n",
       "      <td>0.280645</td>\n",
       "      <td>0.633564</td>\n",
       "      <td>0.295215</td>\n",
       "    </tr>\n",
       "  </tbody>\n",
       "</table>\n",
       "</div>"
      ],
      "text/plain": [
       "             DateTime    CO(GT)  PT08.S1(CO)  NMHC(GT)  C6H6(GT)  \\\n",
       "0 2004-03-10 18:00:00  0.211864     0.511849  0.120981  0.184498   \n",
       "1 2004-03-10 19:00:00  0.161017     0.463196  0.120981  0.145428   \n",
       "2 2004-03-10 20:00:00  0.177966     0.542011  0.120981  0.139148   \n",
       "3 2004-03-10 21:00:00  0.177966     0.522980  0.120981  0.142780   \n",
       "4 2004-03-10 22:00:00  0.127119     0.448833  0.120981  0.100156   \n",
       "\n",
       "   log_C6H6(GT)  sqrt_C6H6(GT)  PT08.S2(NMHC)  log_PT08.S2(NMHC)  \\\n",
       "0      0.169319       0.429532       0.361737           0.308761   \n",
       "1      0.135778       0.381350       0.312167           0.271680   \n",
       "2      0.130281       0.373026       0.303701           0.265207   \n",
       "3      0.133464       0.377863       0.308617           0.268971   \n",
       "4      0.095452       0.316475       0.247030           0.220765   \n",
       "\n",
       "   sqrt_PT08.S2(NMHC)   NOx(GT)  PT08.S3(NOx)   NO2(GT)  PT08.S4(NO2)  \\\n",
       "0            0.601446  0.111036      0.311024  0.328694      0.513040   \n",
       "1            0.558719  0.068382      0.360796  0.266509      0.453125   \n",
       "2            0.551090  0.087339      0.346500  0.331655      0.451214   \n",
       "3            0.555533  0.115098      0.326168  0.355345      0.464366   \n",
       "4            0.497021  0.087339      0.374034  0.337578      0.422212   \n",
       "\n",
       "   log_PT08.S4(NO2)  sqrt_PT08.S4(NO2)  PT08.S5(O3)         T        RH  \\\n",
       "0          0.414121           0.716268     0.454654  0.333333  0.499057   \n",
       "1          0.373716           0.673146     0.326382  0.326882  0.484287   \n",
       "2          0.372400           0.671725     0.370588  0.296774  0.563168   \n",
       "3          0.381422           0.681444     0.426741  0.277419  0.638906   \n",
       "4          0.352214           0.649779     0.386228  0.280645  0.633564   \n",
       "\n",
       "         AH  \n",
       "0  0.280046  \n",
       "1  0.264279  \n",
       "2  0.276374  \n",
       "3  0.294198  \n",
       "4  0.295215  "
      ]
     },
     "execution_count": 4,
     "metadata": {},
     "output_type": "execute_result"
    }
   ],
   "source": [
    "df.head()"
   ]
  },
  {
   "cell_type": "code",
   "execution_count": 5,
   "id": "2fd5b33d-3307-4e4a-946f-94b2917aa00b",
   "metadata": {},
   "outputs": [
    {
     "data": {
      "text/plain": [
       "DateTime              datetime64[ns]\n",
       "CO(GT)                       float64\n",
       "PT08.S1(CO)                  float64\n",
       "NMHC(GT)                     float64\n",
       "C6H6(GT)                     float64\n",
       "log_C6H6(GT)                 float64\n",
       "sqrt_C6H6(GT)                float64\n",
       "PT08.S2(NMHC)                float64\n",
       "log_PT08.S2(NMHC)            float64\n",
       "sqrt_PT08.S2(NMHC)           float64\n",
       "NOx(GT)                      float64\n",
       "PT08.S3(NOx)                 float64\n",
       "NO2(GT)                      float64\n",
       "PT08.S4(NO2)                 float64\n",
       "log_PT08.S4(NO2)             float64\n",
       "sqrt_PT08.S4(NO2)            float64\n",
       "PT08.S5(O3)                  float64\n",
       "T                            float64\n",
       "RH                           float64\n",
       "AH                           float64\n",
       "dtype: object"
      ]
     },
     "execution_count": 5,
     "metadata": {},
     "output_type": "execute_result"
    }
   ],
   "source": [
    "df.dtypes"
   ]
  },
  {
   "cell_type": "markdown",
   "id": "244de59c-0a90-432d-9774-fe17a5839975",
   "metadata": {},
   "source": [
    "The data types for all numeric values are correct. \n",
    "\n",
    "Also, top 2 correlated variables PT08.S2(NMHC) and C6H6(GT) are normalized and tranformed for modelling. So, we will train, test and evaluate VAR which is a multivariate model in this notebook.\n",
    "\n",
    "##### Data:\n",
    "\n",
    "CO(GT), NMHC(GT), C6H6(GT), NOx(GT) and NO2(GT) are ground truth values of these gases in air.\n",
    "\n",
    "PT08.S1(CO), PT08.S2(NMHC), PT08.S3(NOx), PT08.S4(NO2) and PT08.S5(O3) are sensored responses values.\n",
    "\n",
    "T is Temperature of the air\n",
    "\n",
    "RH is Relative Humidity in the air\n",
    "\n",
    "AH is Absolute Humidity in the air\n",
    "\n",
    "Our main focus is to predict NO2 gas concentation according to sesored responses in air, i.e. PT08.S4(NO2)"
   ]
  },
  {
   "cell_type": "markdown",
   "id": "0128049c-94be-40b5-a7f2-dab44a0e44da",
   "metadata": {},
   "source": [
    "### 3. Model\n",
    "#### 3.1. Preparing data"
   ]
  },
  {
   "cell_type": "code",
   "execution_count": 6,
   "id": "4c832e07-51bb-417f-9d3e-85b42bc0fe8e",
   "metadata": {},
   "outputs": [],
   "source": [
    "# Selecting target and top correlated features\n",
    "df_model_log = df[['log_PT08.S4(NO2)', 'log_PT08.S2(NMHC)', 'log_C6H6(GT)']].dropna()\n",
    "\n",
    "# Train-test split (80-20 split)\n",
    "train_size = int(len(df_model_log) * 0.8)\n",
    "train_data_log, test_data_log = df_model_log.iloc[:train_size], df_model_log.iloc[train_size:]\n",
    "\n",
    "# Save train and test splits to CSV\n",
    "train_data_log.to_csv(\"../../Data/var_log_train_data.csv\", index=True)\n",
    "test_data_log.to_csv(\"../../Data/var_log_test_data.csv\", index=True)"
   ]
  },
  {
   "cell_type": "code",
   "execution_count": 7,
   "id": "edacb4b3-797a-4dfe-a6b0-8fe2ea37ec09",
   "metadata": {},
   "outputs": [],
   "source": [
    "# Selecting target and top correlated features\n",
    "df_model_sqrt = df[['sqrt_PT08.S4(NO2)', 'sqrt_PT08.S2(NMHC)', 'sqrt_C6H6(GT)']].dropna()\n",
    "\n",
    "# Train-test split (80-20 split)\n",
    "train_size = int(len(df_model_sqrt) * 0.8)\n",
    "train_data_sqrt, test_data_sqrt = df_model_sqrt.iloc[:train_size], df_model_sqrt.iloc[train_size:]\n",
    "\n",
    "# Save train and test splits to CSV\n",
    "train_data_sqrt.to_csv(\"../../Data/var_sqrt_train_data.csv\", index=True)\n",
    "test_data_sqrt.to_csv(\"../../Data/var_sqrt_test_data.csv\", index=True)"
   ]
  },
  {
   "cell_type": "markdown",
   "id": "5b133b73-60a7-4cc0-9508-ea6155c7f38b",
   "metadata": {},
   "source": [
    "#### 3.2. Training VAR model"
   ]
  },
  {
   "cell_type": "code",
   "execution_count": 8,
   "id": "4fe4ef1e-917c-4cc5-868c-791631b55091",
   "metadata": {},
   "outputs": [
    {
     "name": "stdout",
     "output_type": "stream",
     "text": [
      "Model trained and saved at var_model_log.pkl\n"
     ]
    }
   ],
   "source": [
    "target_columns_log = [\"log_PT08.S4(NO2)\", \"log_PT08.S2(NMHC)\", \"log_C6H6(GT)\"]\n",
    "model_log = train_and_save_model(train_data_log, target_columns_log, model_path=\"var_model_log.pkl\")"
   ]
  },
  {
   "cell_type": "code",
   "execution_count": 9,
   "id": "1aac8a12-7954-44a7-b10f-a833458348f0",
   "metadata": {},
   "outputs": [
    {
     "name": "stdout",
     "output_type": "stream",
     "text": [
      "Model trained and saved at var_model_sqrt.pkl\n"
     ]
    }
   ],
   "source": [
    "target_columns_sqrt = [\"sqrt_PT08.S4(NO2)\", \"sqrt_PT08.S2(NMHC)\", \"sqrt_C6H6(GT)\"]\n",
    "model_sqrt = train_and_save_model(train_data_sqrt, target_columns_sqrt, model_path=\"var_model_sqrt.pkl\")"
   ]
  },
  {
   "cell_type": "markdown",
   "id": "2e40e229-60e7-4537-b582-ad2ba9d22553",
   "metadata": {},
   "source": [
    "#### 3.3. Testing and Evaluation VAR model"
   ]
  },
  {
   "cell_type": "code",
   "execution_count": 10,
   "id": "87acd247-cc8c-46e3-bf34-6d5b52e1e56d",
   "metadata": {},
   "outputs": [
    {
     "name": "stdout",
     "output_type": "stream",
     "text": [
      "RMSE: 0.11759308279279361\n",
      "MAE: 0.09977379262973518\n"
     ]
    }
   ],
   "source": [
    "predictions_log, metrics_log = load_and_test_model(test_data_log, target_column=target_columns_log, model_path=\"var_model_log.pkl\")"
   ]
  },
  {
   "cell_type": "code",
   "execution_count": 11,
   "id": "b189c0db-b656-45ab-b515-92d6d950ddf6",
   "metadata": {},
   "outputs": [
    {
     "name": "stdout",
     "output_type": "stream",
     "text": [
      "RMSE: 0.1596523723017971\n",
      "MAE: 0.13105794168987692\n"
     ]
    }
   ],
   "source": [
    "predictions_sqrt, metrics_sqrt = load_and_test_model(test_data_sqrt, target_column=target_columns_sqrt, model_path=\"var_model_sqrt.pkl\")"
   ]
  },
  {
   "cell_type": "markdown",
   "id": "b2842b99-293d-45a4-97f3-277f15a8a9c5",
   "metadata": {},
   "source": [
    "#### 3.4. Plotting"
   ]
  },
  {
   "cell_type": "code",
   "execution_count": 12,
   "id": "2171b2b8-acc9-4796-bc09-c5d5fa46538e",
   "metadata": {},
   "outputs": [
    {
     "data": {
      "image/png": "[encoded data removed]",
      "text/plain": [
       "<Figure size 1000x600 with 1 Axes>"
      ]
     },
     "metadata": {},
     "output_type": "display_data"
    }
   ],
   "source": [
    "# Plotting\n",
    "plt.figure(figsize=(10, 6))\n",
    "plt.plot(train_data_log['log_PT08.S4(NO2)'], label='Train')\n",
    "plt.plot(test_data_log['log_PT08.S4(NO2)'], label='Test')\n",
    "plt.plot(predictions_log['log_PT08.S4(NO2)'], label='Forecast')\n",
    "plt.legend()\n",
    "plt.title('VAR Forecast vs Actual for log_PT08.S4(NO2)')\n",
    "plt.show()"
   ]
  },
  {
   "cell_type": "markdown",
   "id": "04f98d23-1ae6-4b72-8a51-8b31fd573fb1",
   "metadata": {},
   "source": [
    "Log feature transforms gives better model performance than Square root feature transform"
   ]
  },
  {
   "cell_type": "markdown",
   "id": "b21e3745-9cf0-4e8a-a676-606bad263004",
   "metadata": {},
   "source": [
    "Considering the RMSE and MAE evaluation metrics, the model is currently performing at a satisfactory level. \n",
    "\n",
    "However, to achieve optimal accuracy and robustness, additional iterations with feature engineering and hyperparameter tuning are recommended. This could involve experimenting with feature selection, transformation, and scaling techniques that address the model's sensitivity to skewed and non-uniform data distributions. Such refinements can help improve predictive power and ensure the model generalizes better across diverse data scenarios. Through these adjustments, we can enhance model performance to reach a higher standard of reliability and accuracy."
   ]
  }
 ],
 "metadata": {
  "kernelspec": {
   "display_name": "Python 3 (ipykernel)",
   "language": "python",
   "name": "python3"
  },
  "language_info": {
   "codemirror_mode": {
    "name": "ipython",
    "version": 3
   },
   "file_extension": ".py",
   "mimetype": "text/x-python",
   "name": "python",
   "nbconvert_exporter": "python",
   "pygments_lexer": "ipython3",
   "version": "3.12.4"
  }
 },
 "nbformat": 4,
 "nbformat_minor": 5
}
